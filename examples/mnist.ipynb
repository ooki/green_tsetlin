{
 "cells": [
  {
   "cell_type": "markdown",
   "metadata": {},
   "source": [
    "MNIST : 28*28 grayscale image multi-class classification\n",
    "=========================================================\n",
    "\n",
    "In this tutorial we show how green\\_tsetlin TM can be used to train on the **MNIST dataset**. MNIST is a benchmark by digit recognition \n",
    "that contains images of handwritten digits with a total of 70,000 images. Each image is a 28x28 pixel grayscale image with values between 0 and 255."
   ]
  },
  {
   "cell_type": "code",
   "execution_count": 2,
   "metadata": {},
   "outputs": [],
   "source": [
    "from sklearn.datasets import fetch_openml\n",
    "from sklearn.model_selection import train_test_split as split\n",
    "import numpy as np\n",
    "\n",
    "X, y = fetch_openml(\"mnist_784\", version=1, return_X_y=True, as_frame=False)\n",
    "\n",
    "X_train, X_test, y_train, y_test = split(X, y, test_size=0.2, random_state=42, shuffle=True)"
   ]
  },
  {
   "cell_type": "code",
   "execution_count": 5,
   "metadata": {},
   "outputs": [],
   "source": [
    "X_train = X_train[:10000]\n",
    "y_train = y_train[:10000]\n",
    "X_test = X_test[:1000]\n",
    "y_test = y_test[:1000]"
   ]
  },
  {
   "cell_type": "markdown",
   "metadata": {},
   "source": [
    "$(70000, 784) \\leftarrow (70000, 28, 28)$\n",
    "\n",
    "With sklearn we import an easy to use version of MNIST. This version gives 2d right away hence no flatten is needed. Next, as the \n",
    "TM requires binary values, each pixel is converted with a threshold of 75."
   ]
  },
  {
   "cell_type": "code",
   "execution_count": 6,
   "metadata": {},
   "outputs": [],
   "source": [
    "X_train = np.where(X_train > 75, 1, 0)\n",
    "X_train = X_train.astype(np.uint8)\n",
    "    \n",
    "X_test = np.where(X_test > 75, 1, 0)\n",
    "X_test = X_test.astype(np.uint8)\n",
    "\n",
    "y_train = y_train.astype(np.uint32)\n",
    "y_test = y_test.astype(np.uint32)"
   ]
  },
  {
   "cell_type": "markdown",
   "metadata": {},
   "source": [
    "We can now train the Tsetlin Machine. Here, it is preferable and recommended to run a hyperparameter search."
   ]
  },
  {
   "cell_type": "code",
   "execution_count": 13,
   "metadata": {},
   "outputs": [
    {
     "name": "stderr",
     "output_type": "stream",
     "text": [
      "[I 2024-06-19 13:29:54,872] A new study created in memory with name: MNIST hpsearch\n",
      "Processing trial 9 of 10, best score: [0.9937278429233706]: 100%|██████████| 10/10 [1:11:24<00:00, 428.49s/it]\n"
     ]
    }
   ],
   "source": [
    "from green_tsetlin.hpsearch import HyperparameterSearch\n",
    "\n",
    "\n",
    "hpsearch = HyperparameterSearch(s_space=(3.0, 40.0),\n",
    "                                clause_space=(1000, 8000),\n",
    "                                threshold_space=(1000, 8000),\n",
    "                                max_epoch_per_trial=20,\n",
    "                                literal_budget=(5, 10),\n",
    "                                k_folds=3,\n",
    "                                n_jobs=4,\n",
    "                                seed=42,\n",
    "                                minimize_literal_budget=False)\n",
    "\n",
    "hpsearch.set_train_data(X_train, y_train)\n",
    "hpsearch.set_eval_data(X_test, y_test)\n",
    "\n",
    "hpsearch.optimize(n_trials=10, study_name=\"MNIST hpsearch\", show_progress_bar=True, storage=None)"
   ]
  },
  {
   "cell_type": "markdown",
   "metadata": {},
   "source": [
    "### Best parameters\n",
    "\n",
    "best paramaters:  {'s': 21.627727185060525, 'n_clauses': 6154, 'threshold': 1218, 'literal_budget': 10}\n",
    "\n",
    "best score:  0.9937278429233706"
   ]
  },
  {
   "cell_type": "code",
   "execution_count": 1,
   "metadata": {},
   "outputs": [],
   "source": [
    "import green_tsetlin as gt\n",
    "\n",
    "best_params = {'s': 21.627727185060525, 'n_clauses': 6154, 'threshold': 1218, 'literal_budget': 10}\n",
    "\n",
    "tm = gt.TsetlinMachine(n_literals=28*28,\n",
    "                        n_clauses=best_params['n_clauses'],\n",
    "                        s=best_params['s'],\n",
    "                        threshold=int(best_params['threshold']),\n",
    "                        n_classes=10,\n",
    "                        literal_budget=best_params['literal_budget'])"
   ]
  },
  {
   "cell_type": "code",
   "execution_count": 2,
   "metadata": {},
   "outputs": [],
   "source": [
    "from sklearn.datasets import fetch_openml\n",
    "from sklearn.model_selection import train_test_split as split\n",
    "import numpy as np\n",
    "\n",
    "X, y = fetch_openml(\"mnist_784\", version=1, return_X_y=True, as_frame=False)\n",
    "\n",
    "X_train, X_test, y_train, y_test = split(X, y, test_size=0.2, random_state=42, shuffle=True)\n",
    "\n",
    "X_train = np.where(X_train > 75, 1, 0)\n",
    "X_train = X_train.astype(np.uint8)\n",
    "    \n",
    "X_test = np.where(X_test > 75, 1, 0)\n",
    "X_test = X_test.astype(np.uint8)\n",
    "\n",
    "y_train = y_train.astype(np.uint32)\n",
    "y_test = y_test.astype(np.uint32)"
   ]
  },
  {
   "cell_type": "code",
   "execution_count": 3,
   "metadata": {},
   "outputs": [
    {
     "name": "stderr",
     "output_type": "stream",
     "text": [
      "Processing epoch 20 of 20, train acc: 0.992, best eval score: 0.972 (epoch: 19): 100%|██████████| 20/20 [15:50<00:00, 47.51s/it]\n",
      "Processing epoch 20 of 20, train acc: 0.995, best eval score: 0.992 (epoch: 0): 100%|██████████| 20/20 [15:03<00:00, 45.18s/it]\n"
     ]
    }
   ],
   "source": [
    "trainer = gt.Trainer(tm, k_folds=2, n_epochs=20, seed=42, n_jobs=7, progress_bar=True)\n",
    "\n",
    "trainer.set_train_data(X_train, y_train)\n",
    "trainer.set_eval_data(X_test, y_test)\n",
    "\n",
    "res = trainer.train()"
   ]
  },
  {
   "cell_type": "code",
   "execution_count": 5,
   "metadata": {},
   "outputs": [
    {
     "data": {
      "text/plain": [
       "{'best_eval_score': 0.9918857142857143,\n",
       " 'k_folds': 2,\n",
       " 'train_time_of_epochs': [41.99848390498664,\n",
       "  30.74028508097399,\n",
       "  30.064865624008235,\n",
       "  29.525387891975697,\n",
       "  29.982523320999462,\n",
       "  30.06839102698723,\n",
       "  30.43663672398543,\n",
       "  31.987098273995798,\n",
       "  28.460180500987917,\n",
       "  28.762363646004815,\n",
       "  28.464446795987897,\n",
       "  28.478722686995752,\n",
       "  28.687962658004835,\n",
       "  27.64200901699951,\n",
       "  27.71681642101612,\n",
       "  28.097751585999504,\n",
       "  28.664220188045874,\n",
       "  27.467564610997215,\n",
       "  27.849587303004228,\n",
       "  27.281124531000387,\n",
       "  27.562880382989533,\n",
       "  27.764159907004796,\n",
       "  29.250643727951683,\n",
       "  28.007854113995563,\n",
       "  27.766060939000454,\n",
       "  27.767420815012883,\n",
       "  28.402095064986497,\n",
       "  28.594877657014877,\n",
       "  27.333333007001784,\n",
       "  27.278216135047842,\n",
       "  27.83884705597302,\n",
       "  27.217197816993576,\n",
       "  27.081594954011962,\n",
       "  26.943604013998993,\n",
       "  27.043323835998308,\n",
       "  28.250813858001493,\n",
       "  26.777471681009047,\n",
       "  27.486269582004752,\n",
       "  27.345113909977954,\n",
       "  26.679121892957482],\n",
       " 'train_log': [0.8924285714285715,\n",
       "  0.9485714285714286,\n",
       "  0.9587142857142857,\n",
       "  0.9664857142857143,\n",
       "  0.9705142857142857,\n",
       "  0.9750285714285715,\n",
       "  0.9774857142857143,\n",
       "  0.9794571428571428,\n",
       "  0.9822285714285715,\n",
       "  0.9835714285714285,\n",
       "  0.9848285714285714,\n",
       "  0.9859428571428571,\n",
       "  0.9867714285714285,\n",
       "  0.9882571428571428,\n",
       "  0.9884857142857143,\n",
       "  0.9894285714285714,\n",
       "  0.9905714285714285,\n",
       "  0.9918,\n",
       "  0.9916571428571429,\n",
       "  0.9921142857142857,\n",
       "  0.9732,\n",
       "  0.9782285714285714,\n",
       "  0.9803714285714286,\n",
       "  0.9829142857142857,\n",
       "  0.9849142857142857,\n",
       "  0.9869142857142857,\n",
       "  0.9886571428571429,\n",
       "  0.9895714285714285,\n",
       "  0.9898857142857143,\n",
       "  0.9910857142857142,\n",
       "  0.9915142857142857,\n",
       "  0.9927714285714285,\n",
       "  0.9930857142857142,\n",
       "  0.9932,\n",
       "  0.9938,\n",
       "  0.9944571428571428,\n",
       "  0.9941428571428571,\n",
       "  0.9949428571428571,\n",
       "  0.9950571428571429,\n",
       "  0.9953714285714286],\n",
       " 'eval_log': [0.9393714285714285,\n",
       "  0.9510857142857143,\n",
       "  0.9575428571428571,\n",
       "  0.9608,\n",
       "  0.9628,\n",
       "  0.9648571428571429,\n",
       "  0.9668,\n",
       "  0.9677142857142857,\n",
       "  0.9689142857142857,\n",
       "  0.9702857142857143,\n",
       "  0.9705714285714285,\n",
       "  0.9710571428571428,\n",
       "  0.9702,\n",
       "  0.9702,\n",
       "  0.9709428571428571,\n",
       "  0.9715428571428572,\n",
       "  0.9713142857142857,\n",
       "  0.9721714285714286,\n",
       "  0.9722571428571428,\n",
       "  0.9724285714285714,\n",
       "  0.9918857142857143,\n",
       "  0.9906285714285714,\n",
       "  0.9899428571428571,\n",
       "  0.9880571428571429,\n",
       "  0.9871714285714286,\n",
       "  0.9867142857142858,\n",
       "  0.9864571428571428,\n",
       "  0.9856571428571429,\n",
       "  0.9843142857142857,\n",
       "  0.9828857142857143,\n",
       "  0.9834,\n",
       "  0.9833142857142857,\n",
       "  0.9839142857142857,\n",
       "  0.9830857142857143,\n",
       "  0.9824857142857143,\n",
       "  0.9824,\n",
       "  0.9818285714285714,\n",
       "  0.9827714285714285,\n",
       "  0.9822285714285715,\n",
       "  0.9806285714285714]}"
      ]
     },
     "execution_count": 5,
     "metadata": {},
     "output_type": "execute_result"
    }
   ],
   "source": [
    "res"
   ]
  }
 ],
 "metadata": {
  "kernelspec": {
   "display_name": "gt",
   "language": "python",
   "name": "python3"
  },
  "language_info": {
   "codemirror_mode": {
    "name": "ipython",
    "version": 3
   },
   "file_extension": ".py",
   "mimetype": "text/x-python",
   "name": "python",
   "nbconvert_exporter": "python",
   "pygments_lexer": "ipython3",
   "version": "3.1.-1"
  }
 },
 "nbformat": 4,
 "nbformat_minor": 2
}
