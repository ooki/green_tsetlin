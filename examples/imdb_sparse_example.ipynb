{
 "cells": [
  {
   "cell_type": "markdown",
   "metadata": {},
   "source": [
    "## Sparse Tsetlin Machine training on IMDB\n",
    "\n",
    "This notebook gives an example for using the Sparse Tsetlin Machine from green-tsetlin on the **IMDB sentiment dataset**."
   ]
  },
  {
   "cell_type": "code",
   "execution_count": 1,
   "metadata": {},
   "outputs": [],
   "source": [
    "import numpy as np\n",
    "\n",
    "seed = 42\n",
    "rng = np.random.default_rng(seed)"
   ]
  },
  {
   "cell_type": "markdown",
   "metadata": {},
   "source": [
    "### Sklearn CountVectorizer\n",
    "\n",
    "With sklearn CountVectorizer, we can transform the data into bag-of-words.\n",
    "\n",
    "E.g the input text \"I love swimming in the ocean\" is transformed to : [0, 1, 1, 1, 0, 0] \\\n",
    "This vector is based on the vocabulary of the CountVectorizer, e.g [\"dogs\", \"love\", \"ocean\", \"swimming\", \"biking\", \"movie\"] \\\n",
    "We obtain the vocabulary by fitting the data. This gives us words / tokens that occur in the data."
   ]
  },
  {
   "cell_type": "code",
   "execution_count": 2,
   "metadata": {},
   "outputs": [
    {
     "name": "stderr",
     "output_type": "stream",
     "text": [
      "/home/tobxtra/anaconda3/envs/sparse_env/lib/python3.10/site-packages/tqdm/auto.py:21: TqdmWarning: IProgress not found. Please update jupyter and ipywidgets. See https://ipywidgets.readthedocs.io/en/stable/user_install.html\n",
      "  from .autonotebook import tqdm as notebook_tqdm\n"
     ]
    },
    {
     "name": "stdout",
     "output_type": "stream",
     "text": [
      "(array([0, 1], dtype=uint32), array([12500, 12500]))\n"
     ]
    }
   ],
   "source": [
    "from sklearn.feature_extraction.text import CountVectorizer\n",
    "from sklearn.model_selection import train_test_split\n",
    "import datasets\n",
    "\n",
    "imdb = datasets.load_dataset('imdb')\n",
    "x, y = imdb['train']['text'], imdb['train']['label']\n",
    "\n",
    "vectorizer = CountVectorizer(ngram_range=(1, 3), binary=True, lowercase=True, max_features=30000)\n",
    "vectorizer.fit(x)\n",
    "\n",
    "x_bin = vectorizer.transform(x).toarray().astype(np.uint8)\n",
    "y = np.array(y).astype(np.uint32)\n",
    "\n",
    "shuffle_index = [i for i in range(len(x))]\n",
    "rng.shuffle(shuffle_index)\n",
    "\n",
    "x_bin = x_bin[shuffle_index]\n",
    "y = y[shuffle_index]\n",
    "\n",
    "\n",
    "print(np.unique(y, return_counts=True))\n",
    "\n",
    "train_x_bin, val_x_bin, train_y, val_y = train_test_split(x_bin, y, test_size=0.2, random_state=seed, shuffle=True)"
   ]
  },
  {
   "cell_type": "markdown",
   "metadata": {},
   "source": [
    "### Convert x_train and x_val to a sparse csr matrix."
   ]
  },
  {
   "cell_type": "code",
   "execution_count": 3,
   "metadata": {},
   "outputs": [],
   "source": [
    "from scipy.sparse import csr_matrix\n",
    "\n",
    "train_x = csr_matrix(train_x_bin)\n",
    "val_x = csr_matrix(val_x_bin)"
   ]
  },
  {
   "cell_type": "markdown",
   "metadata": {},
   "source": [
    "### Install the green-tsetlin package using pip"
   ]
  },
  {
   "cell_type": "code",
   "execution_count": 4,
   "metadata": {},
   "outputs": [],
   "source": [
    "# pip install green-tsetlin"
   ]
  },
  {
   "cell_type": "code",
   "execution_count": 5,
   "metadata": {},
   "outputs": [
    {
     "name": "stderr",
     "output_type": "stream",
     "text": [
      "Processing epoch 1 of 5, train acc: NA, best test score: NA:   0%|          | 0/5 [00:00<?, ?it/s]"
     ]
    },
    {
     "name": "stderr",
     "output_type": "stream",
     "text": [
      "Processing epoch 5 of 5, train acc: 0.823, best test score: 0.813 (epoch: 4): 100%|██████████| 5/5 [02:14<00:00, 26.98s/it]\n"
     ]
    },
    {
     "data": {
      "text/plain": [
       "{'train_time_of_epochs': [29.243809992000024,\n",
       "  24.66695534200062,\n",
       "  23.12717687300028,\n",
       "  23.223710567000126,\n",
       "  22.50294175199997],\n",
       " 'best_test_score': 0.813,\n",
       " 'best_test_epoch': 4,\n",
       " 'n_epochs': 5,\n",
       " 'train_log': [0.73115, 0.79825, 0.8196, 0.82465, 0.823],\n",
       " 'test_log': [0.7898, 0.8076, 0.8086, 0.803, 0.813],\n",
       " 'did_early_exit': False}"
      ]
     },
     "execution_count": 5,
     "metadata": {},
     "output_type": "execute_result"
    }
   ],
   "source": [
    "from green_tsetlin.sparse_tsetlin_machine import SparseTsetlinMachine\n",
    "from green_tsetlin.trainer import Trainer\n",
    "\n",
    "n_clauses = 500\n",
    "s = 2.0\n",
    "threshold = 2000\n",
    "boost_true_positive_feedback = True\n",
    "literal_budget = 10\n",
    "dynamic_AL = True\n",
    "AL_size = 100\n",
    "clause_size = 50\n",
    "lower_ta_threshold = -40\n",
    "\n",
    "tm = SparseTsetlinMachine(n_literals=train_x_bin.shape[1],\n",
    "                          n_clauses=n_clauses,\n",
    "                          n_classes=2,\n",
    "                          s=s,\n",
    "                          threshold=threshold,\n",
    "                          boost_true_positives=boost_true_positive_feedback,\n",
    "                          literal_budget=literal_budget,\n",
    "                          dynamic_AL=dynamic_AL)\n",
    "\n",
    "# set sparse specific params if needed\n",
    "tm.lower_ta_threshold = lower_ta_threshold\n",
    "tm.active_literals_size = AL_size\n",
    "tm.clause_size = clause_size\n",
    "\n",
    "trainer = Trainer(tm=tm, n_jobs=5, n_epochs=5, seed=seed, progress_bar=True)\n",
    "\n",
    "trainer.set_train_data(train_x, train_y)\n",
    "trainer.set_test_data(val_x, val_y)\n",
    "\n",
    "trainer.train()"
   ]
  }
 ],
 "metadata": {
  "kernelspec": {
   "display_name": "sparse_env",
   "language": "python",
   "name": "python3"
  },
  "language_info": {
   "codemirror_mode": {
    "name": "ipython",
    "version": 3
   },
   "file_extension": ".py",
   "mimetype": "text/x-python",
   "name": "python",
   "nbconvert_exporter": "python",
   "pygments_lexer": "ipython3",
   "version": "3.10.13"
  }
 },
 "nbformat": 4,
 "nbformat_minor": 2
}
