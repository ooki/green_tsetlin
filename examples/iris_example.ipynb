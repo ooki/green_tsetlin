{
 "cells": [
  {
   "cell_type": "markdown",
   "metadata": {
    "metadata": {}
   },
   "source": [
    "# Continuous data : Tsetlin Machine trains on Iris dataset "
   ]
  },
  {
   "cell_type": "code",
   "execution_count": 27,
   "metadata": {
    "metadata": {}
   },
   "outputs": [],
   "source": [
    "from sklearn.model_selection import train_test_split\n",
    "from sklearn.datasets import load_iris\n",
    "import green_tsetlin as gt\n",
    "import numpy as np"
   ]
  },
  {
   "cell_type": "markdown",
   "metadata": {},
   "source": [
    "Load the **iris** dataset from sklearn."
   ]
  },
  {
   "cell_type": "code",
   "execution_count": 31,
   "metadata": {
    "metadata": {}
   },
   "outputs": [],
   "source": [
    "iris = load_iris()\n",
    "\n",
    "x = iris['data'].astype(np.uint8)\n",
    "y = iris['target'].astype(np.uint32)"
   ]
  },
  {
   "cell_type": "markdown",
   "metadata": {},
   "source": [
    "As features of this dataset is continuous, we will need to convert it to TM friendly binary data."
   ]
  },
  {
   "cell_type": "code",
   "execution_count": 32,
   "metadata": {
    "metadata": {}
   },
   "outputs": [],
   "source": [
    "# get max and min for each feature\n",
    "x_max = np.max(x, axis=0)\n",
    "x_min = np.min(x, axis=0)\n",
    "\n",
    "# each feature will have 4 intervals\n",
    "intervals = (x_max - x_min) / 4\n",
    "\n",
    "# Create 4 intervals for each feature\n",
    "intervals_list = [[x_min[i] + k * intervals[i] for k in range(4)] for i in range(x.shape[1])]\n",
    "\n",
    "# Create 4 bit representation for each feature\n",
    "x_empty = np.zeros((x.shape[0], x.shape[1] * 4)).astype(np.uint8)\n",
    "\n",
    "for i in range(x.shape[0]):\n",
    "    for j in range(x.shape[1]):\n",
    "        x_empty[i, j*4:(j+1)*4] = np.array([1 if x[i, j] >= intervals_list[j][k] else 0 for k in range(4)])\n",
    "\n",
    "x = x_empty"
   ]
  },
  {
   "cell_type": "code",
   "execution_count": 33,
   "metadata": {
    "metadata": {}
   },
   "outputs": [],
   "source": [
    "train_x, val_x, train_y, val_y = train_test_split(x, y, test_size=0.2, random_state=42)"
   ]
  },
  {
   "cell_type": "code",
   "execution_count": 36,
   "metadata": {
    "metadata": {}
   },
   "outputs": [
    {
     "name": "stderr",
     "output_type": "stream",
     "text": [
      "[I 2024-05-10 19:27:58,214] A new study created in memory with name: IRIS hpsearch\n",
      "Processing trial 9 of 10, best score: [1.0]: 100%|██████████| 10/10 [00:40<00:00,  4.07s/it]\n"
     ]
    }
   ],
   "source": [
    "from green_tsetlin.hpsearch import HyperparameterSearch\n",
    "\n",
    "hpsearch = HyperparameterSearch(s_space=(2.0, 30.0),\n",
    "                                clause_space=(100, 1000),\n",
    "                                threshold_space=(50, 1500),\n",
    "                                max_epoch_per_trial=30,\n",
    "                                literal_budget=(5, 10),\n",
    "                                k_folds=4,\n",
    "                                n_jobs=5,\n",
    "                                seed=42,\n",
    "                                minimize_literal_budget=False)\n",
    "\n",
    "hpsearch.set_train_data(train_x, train_y)\n",
    "hpsearch.set_eval_data(val_x, val_y)\n",
    "\n",
    "hpsearch.optimize(n_trials=10, \n",
    "                study_name=\"IRIS hpsearch\", \n",
    "                show_progress_bar=True, \n",
    "                storage=None)"
   ]
  },
  {
   "cell_type": "code",
   "execution_count": 37,
   "metadata": {
    "metadata": {}
   },
   "outputs": [
    {
     "name": "stdout",
     "output_type": "stream",
     "text": [
      "best paramaters:  {'s': 2.7694421614854194, 'n_clauses': 514, 'threshold': 501.0437283947865, 'literal_budget': 7}\n",
      "best score:  [1.0]\n"
     ]
    }
   ],
   "source": [
    "params = hpsearch.best_trials[0].params\n",
    "performance = hpsearch.best_trials[0].values\n",
    "\n",
    "print(\"best paramaters: \", params)\n",
    "print(\"best score: \", performance)"
   ]
  }
 ],
 "metadata": {
  "kernelspec": {
   "display_name": "gt",
   "language": "python",
   "name": "python3"
  },
  "language_info": {
   "codemirror_mode": {
    "name": "ipython",
    "version": 3
   },
   "file_extension": ".py",
   "mimetype": "text/x-python",
   "name": "python",
   "nbconvert_exporter": "python",
   "pygments_lexer": "ipython3",
   "version": "3.10.13"
  }
 },
 "nbformat": 4,
 "nbformat_minor": 2
}
