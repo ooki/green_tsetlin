{
 "cells": [
  {
   "cell_type": "markdown",
   "metadata": {},
   "source": [
    "# Exporting and importing a Tsetlin Machine"
   ]
  },
  {
   "cell_type": "code",
   "execution_count": null,
   "metadata": {
    "metadata": {}
   },
   "outputs": [],
   "source": [
    "import green_tsetlin as gt"
   ]
  },
  {
   "cell_type": "code",
   "execution_count": null,
   "metadata": {
    "metadata": {}
   },
   "outputs": [],
   "source": [
    "train_x, train_y, eval_x, eval_y = gt.dataset_generator.xor_dataset(n_literals=6)    "
   ]
  },
  {
   "cell_type": "code",
   "execution_count": null,
   "metadata": {
    "metadata": {}
   },
   "outputs": [],
   "source": [
    "tm = gt.TsetlinMachine(n_literals=6, n_clauses=5, n_classes=2, s=3.0, threshold=42, literal_budget=4, boost_true_positives=False)        \n",
    "                \n",
    "trainer = gt.Trainer(tm, seed=42, n_jobs=1, n_epochs=20)\n",
    "trainer.set_train_data(train_x, train_y)\n",
    "trainer.set_eval_data(eval_x, eval_y)\n",
    "\n",
    "trainer.train()"
   ]
  },
  {
   "cell_type": "code",
   "execution_count": null,
   "metadata": {
    "metadata": {}
   },
   "outputs": [],
   "source": [
    "import os\n",
    "\n",
    "usr = os.environ[\"USER\"]\n",
    "\n",
    "tm.save_state(f\"/home/{usr}/tsetlin_state.npz\")"
   ]
  },
  {
   "cell_type": "code",
   "execution_count": null,
   "metadata": {
    "metadata": {}
   },
   "outputs": [],
   "source": [
    "tm_imported = gt.TsetlinMachine(n_literals=6, n_clauses=5, n_classes=2, s=3.0, threshold=42, literal_budget=4, boost_true_positives=False)\n",
    "\n",
    "tm_imported.load_state(f\"/home/{usr}/tsetlin_state.npz\") "
   ]
  },
  {
   "cell_type": "code",
   "execution_count": null,
   "metadata": {
    "metadata": {}
   },
   "outputs": [],
   "source": [
    "tmrule = tm_imported.get_predictor()\n",
    "\n",
    "tmrule.predict([[0, 1, 0, 0, 0, 0]])"
   ]
  }
 ],
 "metadata": {
  "kernelspec": {
   "display_name": "gt",
   "language": "python",
   "name": "python3"
  },
  "language_info": {
   "codemirror_mode": {
    "name": "ipython",
    "version": 3
   },
   "file_extension": ".py",
   "mimetype": "text/x-python",
   "name": "python",
   "nbconvert_exporter": "python",
   "pygments_lexer": "ipython3",
   "version": "3.10.13"
  }
 },
 "nbformat": 4,
 "nbformat_minor": 2
}
