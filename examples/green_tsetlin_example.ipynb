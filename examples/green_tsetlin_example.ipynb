{
 "cells": [
  {
   "cell_type": "markdown",
   "metadata": {},
   "source": [
    "## Tsetlin Machine trains on IMDB\n",
    "This notebook shows how the green-tsetlin Tsetlin Machine trains on the IMDB sentiment dataset. With this tutorial, huggingface datasets library is used. The library holds the dataset that is on front preprocessed, removing symbols and white spaces.  "
   ]
  },
  {
   "cell_type": "code",
   "execution_count": 4,
   "metadata": {},
   "outputs": [],
   "source": [
    "import numpy as np\n",
    "\n",
    "seed = 42\n",
    "rng = np.random.default_rng(seed)"
   ]
  },
  {
   "cell_type": "code",
   "execution_count": 5,
   "metadata": {},
   "outputs": [],
   "source": [
    "import datasets\n",
    "\n",
    "imdb = datasets.load_dataset('imdb')\n",
    "x, y = imdb['train']['text'], imdb['train']['label']"
   ]
  },
  {
   "cell_type": "markdown",
   "metadata": {},
   "source": [
    "### Sklearn CountVectorizer\n",
    "\n",
    "With sklearn CountVectorizer, we can transform the data into bag-of-words.\n",
    "\n",
    "E.g the input text \"I love swimming in the ocean\" is transformed to : [0, 1, 1, 1, 0, 0] \\\n",
    "This vector is based on the vocabulary of the CountVectorizer, e.g [\"dogs\", \"love\", \"ocean\", \"swimming\", \"biking\", \"movie\"] \\\n",
    "We obtain the vocabulary by fitting the data. This gives us words / tokens that occur in the data. \\"
   ]
  },
  {
   "cell_type": "code",
   "execution_count": 6,
   "metadata": {},
   "outputs": [],
   "source": [
    "from sklearn.feature_extraction.text import CountVectorizer\n",
    "from sklearn.model_selection import train_test_split\n",
    "\n",
    "vectorizer = CountVectorizer(ngram_range=(1, 1), binary=True, lowercase=True, max_features=5000)\n",
    "vectorizer.fit(x)\n",
    "\n",
    "x_bin = vectorizer.transform(x).toarray().astype(np.uint8)\n",
    "y = np.array(y).astype(np.uint32)\n",
    "\n",
    "shuffle_index = [i for i in range(len(x))]\n",
    "rng.shuffle(shuffle_index)\n",
    "\n",
    "x_bin = x_bin[shuffle_index]\n",
    "y = y[shuffle_index]\n",
    "\n",
    "x_bin = x_bin[:1000]\n",
    "y = y[:1000]\n",
    "\n",
    "train_x_bin, val_x_bin, train_y, val_y = train_test_split(x_bin, y, test_size=0.2, random_state=seed, shuffle=True)"
   ]
  },
  {
   "cell_type": "markdown",
   "metadata": {},
   "source": [
    "### Install the green-tsetlin package using pip\n",
    "The green-tsetlin library offers cpu heavy and less cpu heavy implemenation of the library, offering systems with older cpus a plug-and-play version of the library"
   ]
  },
  {
   "cell_type": "code",
   "execution_count": null,
   "metadata": {},
   "outputs": [],
   "source": [
    "#pip install green-tsetlin\n",
    "#pip install green-tsetlin[cpu]"
   ]
  },
  {
   "cell_type": "markdown",
   "metadata": {},
   "source": [
    "### Green Tsetlin hpsearch\n",
    "\n",
    "With a number of different parameters to set in the TM, we can optimize by using the built in optuna optimizer. \\\n",
    "\n",
    "With this optimizer, we can set disired search spaces for each paramater. We Can also optimize for minimizing number of literals in each clause.  "
   ]
  },
  {
   "cell_type": "code",
   "execution_count": 7,
   "metadata": {},
   "outputs": [
    {
     "name": "stderr",
     "output_type": "stream",
     "text": [
      "[I 2024-03-18 09:49:24,327] A new study created in memory with name: IMDB hpsearch\n",
      "Best trial: 0. Best value: 0.876364:  10%|█         | 1/10 [00:27<04:08, 27.63s/it]"
     ]
    },
    {
     "name": "stdout",
     "output_type": "stream",
     "text": [
      "[I 2024-03-18 09:49:51,957] Trial 0 finished with value: 0.8763636363636363 and parameters: {'s': 7.368522014683706, 'n_clauses': 458, 'threshold': 485.16728766509294, 'literal_budget': 6}. Best is trial 0 with value: 0.8763636363636363.\n"
     ]
    },
    {
     "name": "stderr",
     "output_type": "stream",
     "text": [
      "Best trial: 1. Best value: 0.92:  20%|██        | 2/10 [00:55<03:44, 28.00s/it]    "
     ]
    },
    {
     "name": "stdout",
     "output_type": "stream",
     "text": [
      "[I 2024-03-18 09:50:20,214] Trial 1 finished with value: 0.92 and parameters: {'s': 9.632100354894577, 'n_clauses': 440, 'threshold': 919.2502354964952, 'literal_budget': 6}. Best is trial 1 with value: 0.92.\n"
     ]
    },
    {
     "name": "stderr",
     "output_type": "stream",
     "text": [
      "Best trial: 1. Best value: 0.92:  30%|███       | 3/10 [01:20<03:05, 26.49s/it]"
     ]
    },
    {
     "name": "stdout",
     "output_type": "stream",
     "text": [
      "[I 2024-03-18 09:50:44,917] Trial 2 finished with value: 0.8727272727272727 and parameters: {'s': 4.392909625401906, 'n_clauses': 332, 'threshold': 509.2398133442047, 'literal_budget': 7}. Best is trial 1 with value: 0.92.\n"
     ]
    },
    {
     "name": "stderr",
     "output_type": "stream",
     "text": [
      "Best trial: 1. Best value: 0.92:  40%|████      | 4/10 [01:40<02:23, 24.00s/it]"
     ]
    },
    {
     "name": "stdout",
     "output_type": "stream",
     "text": [
      "[I 2024-03-18 09:51:05,081] Trial 3 finished with value: 0.8763636363636363 and parameters: {'s': 2.294396725277722, 'n_clauses': 189, 'threshold': 986.1529681100911, 'literal_budget': 7}. Best is trial 1 with value: 0.92.\n"
     ]
    },
    {
     "name": "stderr",
     "output_type": "stream",
     "text": [
      "Best trial: 1. Best value: 0.92:  50%|█████     | 5/10 [02:00<01:52, 22.52s/it]"
     ]
    },
    {
     "name": "stdout",
     "output_type": "stream",
     "text": [
      "[I 2024-03-18 09:51:24,996] Trial 4 finished with value: 0.8945454545454545 and parameters: {'s': 5.675778881812062, 'n_clauses': 152, 'threshold': 627.7328118311426, 'literal_budget': 7}. Best is trial 1 with value: 0.92.\n"
     ]
    },
    {
     "name": "stderr",
     "output_type": "stream",
     "text": [
      "Best trial: 1. Best value: 0.92:  60%|██████    | 6/10 [02:22<01:28, 22.15s/it]"
     ]
    },
    {
     "name": "stdout",
     "output_type": "stream",
     "text": [
      "[I 2024-03-18 09:51:46,412] Trial 5 finished with value: 0.9054545454545454 and parameters: {'s': 8.37097355486566, 'n_clauses': 184, 'threshold': 794.7288988595533, 'literal_budget': 9}. Best is trial 1 with value: 0.92.\n"
     ]
    },
    {
     "name": "stderr",
     "output_type": "stream",
     "text": [
      "Best trial: 1. Best value: 0.92:  70%|███████   | 7/10 [02:45<01:07, 22.48s/it]"
     ]
    },
    {
     "name": "stdout",
     "output_type": "stream",
     "text": [
      "[I 2024-03-18 09:52:09,584] Trial 6 finished with value: 0.8472727272727273 and parameters: {'s': 2.7469447175891704, 'n_clauses': 286, 'threshold': 771.8432494320348, 'literal_budget': 5}. Best is trial 1 with value: 0.92.\n"
     ]
    },
    {
     "name": "stderr",
     "output_type": "stream",
     "text": [
      "Best trial: 1. Best value: 0.92:  80%|████████  | 8/10 [03:05<00:43, 21.89s/it]"
     ]
    },
    {
     "name": "stdout",
     "output_type": "stream",
     "text": [
      "[I 2024-03-18 09:52:30,216] Trial 7 finished with value: 0.8945454545454545 and parameters: {'s': 4.674085069920422, 'n_clauses': 219, 'threshold': 847.2469101054708, 'literal_budget': 8}. Best is trial 1 with value: 0.92.\n"
     ]
    },
    {
     "name": "stderr",
     "output_type": "stream",
     "text": [
      "Best trial: 1. Best value: 0.92:  90%|█████████ | 9/10 [03:27<00:21, 21.68s/it]"
     ]
    },
    {
     "name": "stdout",
     "output_type": "stream",
     "text": [
      "[I 2024-03-18 09:52:51,432] Trial 8 finished with value: 0.9163636363636364 and parameters: {'s': 6.358222931528444, 'n_clauses': 237, 'threshold': 748.3979007438049, 'literal_budget': 7}. Best is trial 1 with value: 0.92.\n"
     ]
    },
    {
     "name": "stderr",
     "output_type": "stream",
     "text": [
      "Best trial: 1. Best value: 0.92: 100%|██████████| 10/10 [03:44<00:00, 22.47s/it]"
     ]
    },
    {
     "name": "stdout",
     "output_type": "stream",
     "text": [
      "[I 2024-03-18 09:53:09,002] Trial 9 finished with value: 0.7890909090909091 and parameters: {'s': 5.539293447590991, 'n_clauses': 100, 'threshold': 184.75922366287574, 'literal_budget': 10}. Best is trial 1 with value: 0.92.\n"
     ]
    },
    {
     "name": "stderr",
     "output_type": "stream",
     "text": [
      "\n"
     ]
    }
   ],
   "source": [
    "from green_tsetlin.hpsearch import HyperparameterSearch\n",
    "\n",
    "s_space = (2.0, 10.0)\n",
    "clause_space = (100, 500)\n",
    "threshold_space = (50, 1000)\n",
    "max_epoch_per_trial = 15\n",
    "literal_budget = (5, 10)\n",
    "minimize_literal_budget = False\n",
    "n_jobs = 5\n",
    "k_folds = 4\n",
    "\n",
    "imdb_hpsearch = HyperparameterSearch(s_space=s_space,\n",
    "    clause_space=clause_space,\n",
    "    threshold_space=threshold_space,\n",
    "    max_epoch_per_trial=max_epoch_per_trial,\n",
    "    literal_budget=literal_budget,\n",
    "    minimize_literal_budget=minimize_literal_budget,\n",
    "    seed=seed,\n",
    "    n_jobs=n_jobs,\n",
    "    k_folds=k_folds\n",
    "    )\n",
    "\n",
    "imdb_hpsearch.set_train_data(train_x_bin, train_y)\n",
    "imdb_hpsearch.set_test_data(val_x_bin, val_y)\n",
    "\n",
    "imdb_hpsearch.optimize(n_trials=10, study_name=\"IMDB hpsearch\", show_progress_bar=True)"
   ]
  },
  {
   "cell_type": "code",
   "execution_count": 21,
   "metadata": {},
   "outputs": [
    {
     "name": "stdout",
     "output_type": "stream",
     "text": [
      "{'s': 9.632100354894577, 'n_clauses': 440, 'threshold': 919.2502354964952, 'literal_budget': 6}\n",
      "0.92\n"
     ]
    }
   ],
   "source": [
    "params = imdb_hpsearch.best_trials[0].params\n",
    "print(params)\n",
    "\n",
    "performance = imdb_hpsearch.best_trials[0].value \n",
    "print(performance)"
   ]
  },
  {
   "cell_type": "code",
   "execution_count": 16,
   "metadata": {},
   "outputs": [],
   "source": [
    "test_x, test_y = imdb['test']['text'], imdb['test']['label']\n",
    "\n",
    "test_x_bin = vectorizer.transform(test_x).toarray().astype(np.uint8)\n",
    "test_y = np.array(test_y).astype(np.uint32)\n",
    "\n",
    "test_x_bin = test_x_bin[:500]\n",
    "test_y = test_y[:500]"
   ]
  },
  {
   "cell_type": "code",
   "execution_count": 25,
   "metadata": {},
   "outputs": [
    {
     "name": "stderr",
     "output_type": "stream",
     "text": [
      "Processing epoch 15 of 15, train acc: 0.847, best test score: 0.785 (epoch: 8): 100%|██████████| 15/15 [00:05<00:00,  2.82it/s]\n",
      "Processing epoch 15 of 15, train acc: 0.879, best test score: 0.836 (epoch: 1): 100%|██████████| 15/15 [00:05<00:00,  2.57it/s]\n",
      "Processing epoch 15 of 15, train acc: 0.897, best test score: 0.862 (epoch: 1): 100%|██████████| 15/15 [00:06<00:00,  2.18it/s]\n",
      "Processing epoch 15 of 15, train acc: 0.892, best test score: 0.895 (epoch: 1): 100%|██████████| 15/15 [00:06<00:00,  2.17it/s]\n"
     ]
    },
    {
     "data": {
      "text/plain": [
       "{'best_test_score': 0.8945454545454545, 'k_folds': 4}"
      ]
     },
     "execution_count": 25,
     "metadata": {},
     "output_type": "execute_result"
    }
   ],
   "source": [
    "from green_tsetlin.tsetlin_machine import TsetlinMachine\n",
    "from green_tsetlin.trainer import Trainer\n",
    "\n",
    "\n",
    "tm = TsetlinMachine(n_literals=test_x_bin.shape[1], \n",
    "                    \n",
    "                    n_clauses=params[\"n_clauses\"],\n",
    "                    s=params[\"s\"],\n",
    "                    threshold=int(params[\"threshold\"]),\n",
    "                    literal_budget=params[\"literal_budget\"],\n",
    "                    n_classes=2,\n",
    "                    )\n",
    "\n",
    "trainer = Trainer(tm=tm, n_jobs=5, n_epochs=15, seed=seed, progress_bar=True, k_folds=4)\n",
    "\n",
    "trainer.set_train_data(train_x_bin, train_y)\n",
    "trainer.set_test_data(val_x_bin, val_y)\n",
    "\n",
    "trainer.train()"
   ]
  }
 ],
 "metadata": {
  "kernelspec": {
   "display_name": "gt",
   "language": "python",
   "name": "python3"
  },
  "language_info": {
   "codemirror_mode": {
    "name": "ipython",
    "version": 3
   },
   "file_extension": ".py",
   "mimetype": "text/x-python",
   "name": "python",
   "nbconvert_exporter": "python",
   "pygments_lexer": "ipython3",
   "version": "3.10.13"
  }
 },
 "nbformat": 4,
 "nbformat_minor": 2
}
