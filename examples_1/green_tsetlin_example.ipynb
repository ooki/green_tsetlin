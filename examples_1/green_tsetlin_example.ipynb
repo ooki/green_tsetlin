{
 "cells": [
  {
   "cell_type": "markdown",
   "metadata": {},
   "source": [
    "## Tsetlin Machine trains on IMDB\n",
    "This notebook shows how the green-tsetlin Tsetlin Machine trains on the IMDB sentiment dataset. With this tutorial, huggingface datasets library is used. The library holds the dataset that is on front preprocessed, removing symbols and white spaces.  "
   ]
  },
  {
   "cell_type": "markdown",
   "metadata": {},
   "source": [
    "#### First we install the green-tsetlin using pip\n",
    "The green-tsetlin library offers cpu heavy and less cpu heavy implemenation of the library, offering systems with older cpus a plug-and-play version of the library"
   ]
  },
  {
   "cell_type": "code",
   "execution_count": 39,
   "metadata": {},
   "outputs": [],
   "source": [
    "#pip install green-tsetlin\n",
    "#pip install green-tsetlin[cpu]"
   ]
  },
  {
   "cell_type": "markdown",
   "metadata": {},
   "source": [
    "### Libraries\n",
    "\n",
    "As the Tsetlin Machine trains on binary data, all input must be on binary form. Given a feature vector v : $[f_0, f_1, f_2]$ , this"
   ]
  },
  {
   "cell_type": "code",
   "execution_count": 1,
   "metadata": {},
   "outputs": [
    {
     "name": "stderr",
     "output_type": "stream",
     "text": [
      "/home/kolla/anaconda3/envs/gt/lib/python3.10/site-packages/tqdm/auto.py:21: TqdmWarning: IProgress not found. Please update jupyter and ipywidgets. See https://ipywidgets.readthedocs.io/en/stable/user_install.html\n",
      "  from .autonotebook import tqdm as notebook_tqdm\n"
     ]
    }
   ],
   "source": [
    "from sklearn.feature_extraction.text import CountVectorizer\n",
    "from sklearn.model_selection import train_test_split\n",
    "import green_tsetlin as gt\n",
    "import datasets\n",
    "import numpy as np\n",
    "import os\n",
    "import optuna"
   ]
  },
  {
   "cell_type": "code",
   "execution_count": 2,
   "metadata": {},
   "outputs": [],
   "source": [
    "seed = 42\n",
    "rng = np.random.default_rng(seed)"
   ]
  },
  {
   "cell_type": "code",
   "execution_count": 3,
   "metadata": {},
   "outputs": [],
   "source": [
    "imdb = datasets.load_dataset('imdb')\n",
    "x, y = imdb['train']['text'], imdb['train']['label']"
   ]
  },
  {
   "cell_type": "code",
   "execution_count": 37,
   "metadata": {},
   "outputs": [
    {
     "name": "stdout",
     "output_type": "stream",
     "text": [
      "I rented I AM CURIOUS-YELLOW from my video store because of all the controversy that surrounded it when it was first released in 1967. I also heard that at first it was seized by U.S. customs if it ever tried to enter this country, therefore being a fan of films considered \"controversial\" I really had to see this for myself.<br /><br />The plot is centered around a young Swedish drama student named Lena who wants to learn everything she can about life. In particular she wants to focus her attentions to making some sort of documentary on what the average Swede thought about certain political issues such as the Vietnam War and race issues in the United States. In between asking politicians and ordinary denizens of Stockholm about their opinions on politics, she has sex with her drama teacher, classmates, and married men.<br /><br />What kills me about I AM CURIOUS-YELLOW is that 40 years ago, this was considered pornographic. Really, the sex and nudity scenes are few and far between, even then it's not shot like some cheaply made porno. While my countrymen mind find it shocking, in reality sex and nudity are a major staple in Swedish cinema. Even Ingmar Bergman, arguably their answer to good old boy John Ford, had sex scenes in his films.<br /><br />I do commend the filmmakers for the fact that any sex shown in the film is shown for artistic purposes rather than just to shock people and make money to be shown in pornographic theaters in America. I AM CURIOUS-YELLOW is a good film for anyone wanting to study the meat and potatoes (no pun intended) of Swedish cinema. But really, this film doesn't have much of a plot.\n"
     ]
    }
   ],
   "source": [
    "print(x[0])"
   ]
  },
  {
   "cell_type": "code",
   "execution_count": 4,
   "metadata": {},
   "outputs": [],
   "source": [
    "vectorizer = CountVectorizer(ngram_range=(1, 1), binary=True, lowercase=True, max_features=5000)\n",
    "vectorizer.fit(x)\n",
    "\n",
    "x_bin = vectorizer.transform(x).toarray().astype(np.uint8)\n",
    "y = np.array(y).astype(np.uint32)"
   ]
  },
  {
   "cell_type": "code",
   "execution_count": 6,
   "metadata": {},
   "outputs": [],
   "source": [
    "shuffle_index = [i for i in range(len(x))]\n",
    "rng.shuffle(shuffle_index)\n",
    "\n",
    "x_bin = x_bin[shuffle_index]\n",
    "y = y[shuffle_index]\n",
    "\n",
    "train_x_bin, val_x_bin, train_y, val_y = train_test_split(x_bin, y, test_size=0.2, random_state=seed, shuffle=True)\n",
    "\n",
    "train_x_bin = train_x_bin[:1000]\n",
    "train_y = train_y[:1000]\n",
    "val_x_bin = val_x_bin[:100]\n",
    "val_y = val_y[:100]"
   ]
  },
  {
   "cell_type": "code",
   "execution_count": 7,
   "metadata": {},
   "outputs": [
    {
     "name": "stderr",
     "output_type": "stream",
     "text": [
      "Processing epoch 1 of 20, train acc: NA, best test score: NA:   0%|          | 0/20 [00:00<?, ?it/s]"
     ]
    },
    {
     "name": "stderr",
     "output_type": "stream",
     "text": [
      "Processing epoch 20 of 20, train acc: 0.514, best test score: 0.510 (epoch: 5): 100%|██████████| 20/20 [00:06<00:00,  3.26it/s]\n"
     ]
    },
    {
     "data": {
      "text/plain": [
       "{'train_time_of_epochs': [0.27510358399740653,\n",
       "  0.2807319879975694,\n",
       "  0.2641137769969646,\n",
       "  0.3021336029996746,\n",
       "  0.2633360769978026,\n",
       "  0.2642809770004533,\n",
       "  0.25833277399942745,\n",
       "  0.2626812769995013,\n",
       "  0.2592988750002405,\n",
       "  0.2635421770028188,\n",
       "  0.2592279739983496,\n",
       "  0.2746862849999161,\n",
       "  0.262940377000632,\n",
       "  0.26281177700002445,\n",
       "  0.3115096090004954,\n",
       "  0.3865282590013521,\n",
       "  0.4109816799973487,\n",
       "  0.4026439779991051,\n",
       "  0.3877953669980343,\n",
       "  0.3716297559985833],\n",
       " 'best_test_score': 0.51,\n",
       " 'best_test_epoch': 5,\n",
       " 'n_epochs': 20,\n",
       " 'train_log': [0.488,\n",
       "  0.514,\n",
       "  0.514,\n",
       "  0.486,\n",
       "  0.481,\n",
       "  0.49,\n",
       "  0.502,\n",
       "  0.468,\n",
       "  0.5,\n",
       "  0.527,\n",
       "  0.481,\n",
       "  0.501,\n",
       "  0.492,\n",
       "  0.493,\n",
       "  0.499,\n",
       "  0.506,\n",
       "  0.501,\n",
       "  0.508,\n",
       "  0.5,\n",
       "  0.514],\n",
       " 'test_log': [0.47,\n",
       "  0.42,\n",
       "  0.47,\n",
       "  0.48,\n",
       "  0.45,\n",
       "  0.51,\n",
       "  0.45,\n",
       "  0.44,\n",
       "  0.4,\n",
       "  0.45,\n",
       "  0.42,\n",
       "  0.47,\n",
       "  0.43,\n",
       "  0.47,\n",
       "  0.44,\n",
       "  0.44,\n",
       "  0.48,\n",
       "  0.42,\n",
       "  0.44,\n",
       "  0.43],\n",
       " 'did_early_exit': False}"
      ]
     },
     "execution_count": 7,
     "metadata": {},
     "output_type": "execute_result"
    }
   ],
   "source": [
    "n_clauses = 100\n",
    "s = 2.0\n",
    "threshold = 20\n",
    "literal_budget = 5\n",
    "\n",
    "n_epochs = 20\n",
    "\n",
    "\n",
    "tm = gt.TsetlinMachine(n_literals=train_x_bin.shape[1], \n",
    "                       n_clauses=n_clauses, \n",
    "                       n_classes=len(np.unique(train_y)),\n",
    "                       s=s,\n",
    "                       threshold=threshold,\n",
    "                       literal_budget=literal_budget)\n",
    "\n",
    "trainer = gt.Trainer(tm=tm, \n",
    "                     n_jobs=int(os.cpu_count()-2),\n",
    "                     n_epochs=n_epochs,\n",
    "                     seed=seed,\n",
    "                     progress_bar=True)\n",
    "\n",
    "trainer.set_train_data(train_x_bin, train_y)\n",
    "trainer.set_test_data(val_x_bin, val_y)\n",
    "\n",
    "trainer.train()"
   ]
  },
  {
   "cell_type": "code",
   "execution_count": 9,
   "metadata": {},
   "outputs": [
    {
     "data": {
      "text/plain": [
       "dict_keys(['train_time_of_epochs', 'best_test_score', 'best_test_epoch', 'n_epochs', 'train_log', 'test_log', 'did_early_exit'])"
      ]
     },
     "execution_count": 9,
     "metadata": {},
     "output_type": "execute_result"
    }
   ],
   "source": [
    "trainer.results.keys()"
   ]
  },
  {
   "cell_type": "code",
   "execution_count": 32,
   "metadata": {},
   "outputs": [],
   "source": [
    "test_x, test_y = imdb['test']['text'], imdb['test']['label']\n",
    "\n",
    "test_x_bin = vectorizer.transform(test_x).toarray().astype(np.uint8)\n",
    "test_y = np.array(test_y).astype(np.uint32)\n",
    "\n",
    "shuffle_index = [i for i in range(len(test_x))]\n",
    "rng.shuffle(shuffle_index)\n",
    "\n",
    "test_x_bin = test_x_bin[shuffle_index]\n",
    "test_y = test_y[shuffle_index]\n",
    "\n",
    "test_x_bin = test_x_bin[:100]\n",
    "test_y = test_y[:100]"
   ]
  },
  {
   "cell_type": "code",
   "execution_count": 36,
   "metadata": {},
   "outputs": [
    {
     "ename": "ValueError",
     "evalue": "Cannot request explanation on a predictor that has explanation set to 'none'.",
     "output_type": "error",
     "traceback": [
      "\u001b[0;31m---------------------------------------------------------------------------\u001b[0m",
      "\u001b[0;31mValueError\u001b[0m                                Traceback (most recent call last)",
      "Cell \u001b[0;32mIn[36], line 7\u001b[0m\n\u001b[1;32m      3\u001b[0m predictor\u001b[38;5;241m.\u001b[39mset_explanation_names(features)\n\u001b[1;32m      5\u001b[0m \u001b[38;5;28;01mfor\u001b[39;00m i \u001b[38;5;129;01min\u001b[39;00m \u001b[38;5;28mrange\u001b[39m(\u001b[38;5;28mlen\u001b[39m(test_x_bin)):\n\u001b[0;32m----> 7\u001b[0m     pred \u001b[38;5;241m=\u001b[39m \u001b[43mpredictor\u001b[49m\u001b[38;5;241;43m.\u001b[39;49m\u001b[43mexplain\u001b[49m\u001b[43m(\u001b[49m\u001b[43mtest_x_bin\u001b[49m\u001b[43m[\u001b[49m\u001b[43mi\u001b[49m\u001b[43m]\u001b[49m\u001b[43m)\u001b[49m\n\u001b[1;32m      8\u001b[0m     \u001b[38;5;28mprint\u001b[39m(pred)\n\u001b[1;32m      9\u001b[0m     \u001b[38;5;28;01mbreak\u001b[39;00m\n",
      "File \u001b[0;32m~/cloned_libs/green_tsetlin/green_tsetlin/predictor.py:60\u001b[0m, in \u001b[0;36mPredictor.explain\u001b[0;34m(self, x)\u001b[0m\n\u001b[1;32m     58\u001b[0m \u001b[38;5;28;01mdef\u001b[39;00m \u001b[38;5;21mexplain\u001b[39m(\u001b[38;5;28mself\u001b[39m, x : np\u001b[38;5;241m.\u001b[39marray) \u001b[38;5;241m-\u001b[39m\u001b[38;5;241m>\u001b[39m Tuple[Union[Union[\u001b[38;5;28mint\u001b[39m, \u001b[38;5;28mstr\u001b[39m], List[Union[\u001b[38;5;28mint\u001b[39m, \u001b[38;5;28mstr\u001b[39m]]], \u001b[38;5;28mlist\u001b[39m]:\n\u001b[1;32m     59\u001b[0m     \u001b[38;5;28;01mif\u001b[39;00m \u001b[38;5;28mself\u001b[39m\u001b[38;5;241m.\u001b[39mexplanation \u001b[38;5;241m==\u001b[39m \u001b[38;5;124m\"\u001b[39m\u001b[38;5;124mnone\u001b[39m\u001b[38;5;124m\"\u001b[39m:\n\u001b[0;32m---> 60\u001b[0m         \u001b[38;5;28;01mraise\u001b[39;00m \u001b[38;5;167;01mValueError\u001b[39;00m(\u001b[38;5;124m\"\u001b[39m\u001b[38;5;124mCannot request explanation on a predictor that has explanation set to \u001b[39m\u001b[38;5;124m'\u001b[39m\u001b[38;5;124mnone\u001b[39m\u001b[38;5;124m'\u001b[39m\u001b[38;5;124m.\u001b[39m\u001b[38;5;124m\"\u001b[39m)        \n\u001b[1;32m     61\u001b[0m     \u001b[38;5;28mself\u001b[39m\u001b[38;5;241m.\u001b[39minit()\n\u001b[1;32m     63\u001b[0m     argmax_prediction \u001b[38;5;241m=\u001b[39m \u001b[38;5;241m0\u001b[39m\n",
      "\u001b[0;31mValueError\u001b[0m: Cannot request explanation on a predictor that has explanation set to 'none'."
     ]
    }
   ],
   "source": [
    "features = vectorizer.get_feature_names_out()\n",
    "predictor = tm.get_predictor(explanation=\"none\")\n",
    "predictor.set_explanation_names(features)\n",
    "\n",
    "for i in range(len(test_x_bin)):\n",
    "    \n",
    "    pred = predictor.explain(test_x_bin[i])\n",
    "    print(pred)\n",
    "    break"
   ]
  }
 ],
 "metadata": {
  "kernelspec": {
   "display_name": "gt",
   "language": "python",
   "name": "python3"
  },
  "language_info": {
   "codemirror_mode": {
    "name": "ipython",
    "version": 3
   },
   "file_extension": ".py",
   "mimetype": "text/x-python",
   "name": "python",
   "nbconvert_exporter": "python",
   "pygments_lexer": "ipython3",
   "version": "3.10.13"
  }
 },
 "nbformat": 4,
 "nbformat_minor": 2
}
