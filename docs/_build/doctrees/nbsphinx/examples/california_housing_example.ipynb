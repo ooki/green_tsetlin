{
 "cells": [
  {
   "cell_type": "markdown",
   "metadata": {},
   "source": [
    "# California Housing"
   ]
  },
  {
   "cell_type": "code",
   "execution_count": null,
   "metadata": {},
   "outputs": [],
   "source": [
    "import numpy as np\n",
    "import pandas as pd\n",
    "\n",
    "import green_tsetlin as gt\n",
    "import green_tsetlin_core as gtc\n",
    "\n",
    "from sklearn.feature_extraction.text import CountVectorizer\n",
    "from sklearn.model_selection import train_test_split\n",
    "from sklearn.datasets import fetch_california_housing"
   ]
  },
  {
   "cell_type": "code",
   "execution_count": null,
   "metadata": {},
   "outputs": [],
   "source": [
    "cali_housing = fetch_california_housing()\n",
    "X = cali_housing.data\n",
    "y = cali_housing.target\n",
    "\n",
    "df = pd.DataFrame(X, columns=cali_housing.feature_names)\n",
    "df['target'] = y\n",
    "df.describe()\n",
    "df"
   ]
  },
  {
   "cell_type": "code",
   "execution_count": null,
   "metadata": {},
   "outputs": [],
   "source": [
    "# loop all features, and convert to 5 binary cats each\n",
    "for col in df.columns:\n",
    "    if col == 'target':\n",
    "        continue\n",
    "    df[col] = pd.cut(df[col], bins=5, labels=False)\n",
    "    # make each column 5 binary columns\n",
    "    df = pd.concat([df, pd.get_dummies(df[col], prefix=col)], axis=1)\n",
    "\n",
    "df = df.drop(columns=cali_housing.feature_names)\n",
    "\n",
    "\n",
    "df"
   ]
  }
 ],
 "metadata": {
  "kernelspec": {
   "display_name": "sparse_env",
   "language": "python",
   "name": "python3"
  },
  "language_info": {
   "codemirror_mode": {
    "name": "ipython",
    "version": 3
   },
   "file_extension": ".py",
   "mimetype": "text/x-python",
   "name": "python",
   "nbconvert_exporter": "python",
   "pygments_lexer": "ipython3",
   "version": "3.10.13"
  }
 },
 "nbformat": 4,
 "nbformat_minor": 2
}
